{
 "cells": [
  {
   "cell_type": "markdown",
   "id": "39c402a8",
   "metadata": {},
   "source": [
    "### Plate convergence\n",
    "\n",
    "Our results suggest that there are a number of deformational modes of the model mantle lithosphere: \n",
    "\n",
    "- a dripping or Rayleigh-Taylor–type instability; \n",
    "- an asymmetric nderthrusting or subduction; \n",
    "- symmetric, ablative plate consumption; \n",
    "- slab breakoff, the failure and detachment of the strong lithosphere; and \n",
    "- mixed modes with combinations of these processes. \n",
    "\n",
    "The development of the modes is controlled by the rate of convergence associated with the background tectonic regime, the density field, and the rheology of the mantle lithosphere. \n",
    "\n",
    "<img src=\"F_Pysklywec2000_ModelSetup.png\" alt=\"Drawing\" style=\"width: 500px;\"/> \n",
    "\n",
    "### Reference\n",
    "- Pysklywec, R. N., Beaumont, C., & Fullsack, P. (2000). Modeling the behavior of the continental mantle lithosphere during plate convergence. Geology, 28(7), 655-658."
   ]
  },
  {
   "cell_type": "code",
   "execution_count": 1,
   "id": "40d7ab99",
   "metadata": {},
   "outputs": [
    {
     "name": "stdout",
     "output_type": "stream",
     "text": [
      "loaded rc file /opt/venv/lib/python3.9/site-packages/UWGeodynamics/uwgeo-data/uwgeodynamicsrc\n"
     ]
    },
    {
     "data": {
      "text/plain": [
       "'2.12.1'"
      ]
     },
     "execution_count": 1,
     "metadata": {},
     "output_type": "execute_result"
    }
   ],
   "source": [
    "import UWGeodynamics as GEO\n",
    "from UWGeodynamics import visualisation as vis\n",
    "import underworld as uw\n",
    "from underworld import function as fn\n",
    "\n",
    "import numpy as np\n",
    "import math\n",
    "u = GEO.UnitRegistry\n",
    "GEO.__version__"
   ]
  },
  {
   "cell_type": "code",
   "execution_count": 2,
   "id": "5478d726",
   "metadata": {},
   "outputs": [
    {
     "name": "stdout",
     "output_type": "stream",
     "text": [
      "\tGlobal element size: 200x50\n",
      "\tLocal offset of rank 0: 0x0\n",
      "\tLocal range of rank 0: 200x50\n",
      "In func WeightsCalculator_CalculateAll(): for swarm \"1NGUHOQN__swarm\"\n",
      "\tdone 33% (3334 cells)...\n",
      "\tdone 67% (6667 cells)...\n",
      "\tdone 100% (10000 cells)...\n",
      "WeightsCalculator_CalculateAll(): finished update of weights for swarm \"1NGUHOQN__swarm\"\n"
     ]
    }
   ],
   "source": [
    "velocity = 1.5 * u.centimetre / u.year\n",
    "\n",
    "# Scaling\n",
    "T0 = 293.15 * u.degK # 20 * u.degC\n",
    "Tz = 1733.15 * u.degK # 1500 * u.degC\n",
    "\n",
    "K_viscosity = 1e20  * u.pascal * u.second\n",
    "K_density = 3300 * u.kilogram / (u.meter)**3\n",
    "KL = 2400 * u.kilometer\n",
    "KH = 600 * u.kilometer\n",
    "K_gravity =  10. * u.meter / u.second**2\n",
    "\n",
    "Kt = KL /velocity\n",
    "bodyforce = K_density  * K_gravity \n",
    "KM = bodyforce * KL**2 * Kt**2\n",
    "KT = Tz - T0\n",
    "\n",
    "GEO.scaling_coefficients[\"[time]\"] = Kt\n",
    "GEO.scaling_coefficients[\"[length]\"] = KH\n",
    "GEO.scaling_coefficients[\"[mass]\"] = KM\n",
    "GEO.scaling_coefficients[\"[temperature]\"] = KT\n",
    "    \n",
    "GEO.rcParams[\"swarm.particles.per.cell.2D\"]= 20    \n",
    "# Model mesh\n",
    "Model = GEO.Model(elementRes=(200,50),\n",
    "                  minCoord=(0. * u.kilometer, -600. * u.kilometer),  \n",
    "                  maxCoord=(2400 * u.kilometer,0. * u.kilometer ),\n",
    "                  gravity=(0.0, -K_gravity))\n",
    "\n",
    "Model.outputDir= \"op_Pysklywec2010_uwg\"\n",
    "Model.minStrainRate = 1e-18 / u.second\n",
    "\n",
    "resolution0 = 12.0 * u.kilometer"
   ]
  },
  {
   "cell_type": "code",
   "execution_count": 3,
   "id": "ecb3a350",
   "metadata": {},
   "outputs": [],
   "source": [
    "D_crust = GEO.nd(-24 * u.kilometer)\n",
    "D_ml = GEO.nd(-120* u.kilometer)\n",
    "D_Bottom = GEO.nd(-KH)\n",
    "\n",
    "SL_ws =  GEO.nd(12 * u.kilometer) \n",
    "X_ws0 = GEO.nd(1200 * u.kilometer) - SL_ws/2.\n",
    "X_ws1 = GEO.nd(1200 * u.kilometer) + SL_ws/2. \n",
    "Y_ws0 = GEO.nd(-42 * u.kilometer) + SL_ws/2.\n",
    "Y_ws1 = GEO.nd(-42 * u.kilometer) - SL_ws/2. \n",
    "\n",
    "crust       = Model.add_material(name=\"Crust\", shape=GEO.shapes.Layer2D(top=Model.top, bottom=D_crust))\n",
    "ml = Model.add_material(name=\"Mantle lithosphere0\", shape=GEO.shapes.Layer2D(top=D_crust, bottom=D_ml))\n",
    "ma = Model.add_material(name=\"Asthenosphere\", shape=GEO.shapes.Layer2D(top=D_ml, bottom=Model.bottom))\n",
    "weakseed = Model.add_material(name=\"Week seed\", shape=GEO.shapes.Box(Y_ws0, Y_ws1, minX=X_ws0, maxX=X_ws1))"
   ]
  },
  {
   "cell_type": "code",
   "execution_count": 4,
   "id": "13442d44",
   "metadata": {},
   "outputs": [],
   "source": [
    "npoints = 250\n",
    "coords0 = np.ndarray((npoints, 2))\n",
    "coords0[:, 0] = np.linspace(GEO.nd(Model.minCoord[0]), GEO.nd(Model.maxCoord[0]), npoints)\n",
    "coords0[:, 1] = D_crust\n",
    "\n",
    "coords1 = np.ndarray((npoints, 2))\n",
    "coords1[:, 0] = np.linspace(GEO.nd(Model.minCoord[0]), GEO.nd(Model.maxCoord[0]), npoints)\n",
    "coords1[:, 1] = D_ml\n",
    "\n",
    "Model.add_passive_tracers(name=\"interface0\", vertices=coords0)\n",
    "Model.add_passive_tracers(name=\"interface1\", vertices=coords1)"
   ]
  },
  {
   "cell_type": "code",
   "execution_count": 5,
   "id": "49266033",
   "metadata": {},
   "outputs": [
    {
     "data": {
      "text/html": [
       "<img src='data:image/png;base64,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'>"
      ],
      "text/plain": [
       "<IPython.core.display.HTML object>"
      ]
     },
     "metadata": {},
     "output_type": "display_data"
    }
   ],
   "source": [
    "Fig = vis.Figure(resolution=(900,300),rulers=True,margin = 70)\n",
    "Fig.Points(Model.interface0_tracers, pointSize=4.0)\n",
    "Fig.Points(Model.interface1_tracers, pointSize=4.0)\n",
    "Fig.Points(Model.swarm, Model.materialField,fn_size=4.0,discrete=True,colourBar=False)\n",
    "Fig.show()"
   ]
  },
  {
   "cell_type": "code",
   "execution_count": 6,
   "id": "e3de731b",
   "metadata": {},
   "outputs": [],
   "source": [
    "rh = GEO.ViscousCreepRegistry()"
   ]
  },
  {
   "cell_type": "code",
   "execution_count": 7,
   "id": "f21f1ead",
   "metadata": {},
   "outputs": [
    {
     "data": {
      "text/html": [
       "<table>\n",
       "        <tr>\n",
       "            <th colspan=\"2\" style=\"text-align:center;\">Viscous Dislocation Creep: Wet Quartz, Viscous Dislocation Creep, Gleason and Tullis, 1995</th>\n",
       "        </tr><tr><td style=\"text-align:left;width:20%;\">Citation</td><td style=\"text-align:left;width:80%\"><a href=\"https://www.sciencedirect.com/science/article/pii/004019519500011B\">Gleason, G. C., & Tullis, J. (1995). A flow law for dislocation creep of quartz aggregates determined with the molten salt cell. Tectonophysics, 247(1-4), 1-23.</a></td></tr><tr><td style=\"text-align:left;width:20%;\">Mineral</td><td style=\"text-align:left;width:80%\">Wet Quartz</td></tr><tr><td style=\"text-align:left;width:20%;\">Pre-exponential factor</td><td style=\"text-align:left;width:80%\">1.1e-28 / pascal ** 4 / second</td></tr><tr><td style=\"text-align:left;width:20%;\">Stress Exponent</td><td style=\"text-align:left;width:80%\">4.0</td></tr><tr><td style=\"text-align:left;width:20%;\">Activation Volume</td><td style=\"text-align:left;width:80%\">3.1e-06 meter ** 3 / mole</td></tr><tr><td style=\"text-align:left;width:20%;\">Activation Energy</td><td style=\"text-align:left;width:80%\">223.0 kilojoule / mole</td></tr><tr><td style=\"text-align:left;width:20%;\">Factor</td><td style=\"text-align:left;width:80%\">1.0</td></tr><tr><td style=\"text-align:left;width:20%;\">Grain Size Exponent</td><td style=\"text-align:left;width:80%\">0.0</td></tr><tr><td style=\"text-align:left;width:20%;\">Water Fugacity Exponent</td><td style=\"text-align:left;width:80%\">0.0</td></tr><tr><td style=\"text-align:left;width:20%;\">Melt Fraction Factor</td><td style=\"text-align:left;width:80%\">0.0</td></tr></table>"
      ],
      "text/plain": [
       "<UWGeodynamics._rheology.ViscousCreep at 0x7fa34c10bca0>"
      ]
     },
     "execution_count": 7,
     "metadata": {},
     "output_type": "execute_result"
    }
   ],
   "source": [
    "rh.Wet_Quartz_Dislocation_Gleason_and_Tullis_1995"
   ]
  },
  {
   "cell_type": "code",
   "execution_count": 8,
   "id": "ae528ed4",
   "metadata": {},
   "outputs": [],
   "source": [
    "# Viscous rheology\n",
    "Model.maxViscosity = 1e24 * u.pascal * u.second\n",
    "Model.minViscosity = 1e18 * u.pascal * u.second\n",
    "\n",
    "Dry_Olivine_Chopra1984= GEO.ViscousCreep(name='Dry Olivine_Chopra and Paterson 1984',\n",
    "                                 preExponentialFactor=5.495e-25/(u.pascal ** 4.48)/u.second,\n",
    "                                 stressExponent=4.48, activationEnergy=498 * u.kilojoules/u.mole,\n",
    "                                 f=1.0)  \n",
    "\n",
    "crust.viscosity    = 0.25*rh.Wet_Quartz_Dislocation_Gleason_and_Tullis_1995\n",
    "weakseed.viscosity = Dry_Olivine_Chopra1984\n",
    "ml.viscosity      = Dry_Olivine_Chopra1984\n",
    "ma.viscosity      = Dry_Olivine_Chopra1984\n",
    "\n",
    "# Plastic rheology\n",
    "frictionC1 = np.tan(np.radians(15.0))\n",
    "frictionC2 = np.tan(np.radians(2.0))\n",
    "plasticity0 = GEO.DruckerPrager(name=\"Von Mises\",cohesion=10.0 * u.megapascal,\n",
    "                               cohesionAfterSoftening=10.0 * u.megapascal,\n",
    "                               frictionCoefficient = frictionC1, frictionAfterSoftening = frictionC1,\n",
    "                               epsilon1=0.5,\n",
    "                               epsilon2=1.5)\n",
    "plasticity1 = GEO.DruckerPrager(name=\"Von Mises\",cohesion=100.0 * u.megapascal,\n",
    "                               cohesionAfterSoftening=10.0 * u.megapascal,\n",
    "                               frictionCoefficient = frictionC1, frictionAfterSoftening = frictionC2,\n",
    "                                epsilon1=0.5,\n",
    "                               epsilon2=1.5)\n",
    "\n",
    "weakseed.plasticity = plasticity0\n",
    "crust.plasticity    = plasticity0\n",
    "ml.plasticity      = plasticity1\n",
    "ma.plasticity      = plasticity1\n",
    "\n",
    "# Density (Pysklywec2002)\n",
    "r_tE0 = 3e-5 / u.kelvin\n",
    "r_tE1 = 2e-5 / u.kelvin\n",
    "r_tem0 = 500.0 * u.degK\n",
    "r_tem1 = 750.0 * u.degK\n",
    "# r_beta = 1.0e-11 / u.pascal \n",
    "# r_pre =  0.24e6 * u.pascal\n",
    "\n",
    "crust.density = GEO.LinearDensity(2800. * u.kilogram / u.metre**3,thermalExpansivity = r_tE0,\n",
    "                                reference_temperature = r_tem0)                                                     \n",
    "ml.density   = GEO.LinearDensity(3300. * u.kilogram / u.metre**3,thermalExpansivity = r_tE1,\n",
    "                                reference_temperature = r_tem1)     \n",
    "ma.density    = GEO.LinearDensity(3300. * u.kilogram / u.metre**3,thermalExpansivity = r_tE1,\n",
    "                                reference_temperature = r_tem1)     \n",
    "weakseed.density = GEO.LinearDensity(3300. * u.kilogram / u.metre**3,thermalExpansivity = r_tE1,\n",
    "                                reference_temperature = r_tem1)  \n",
    "# crust.density    = 2800. * u.kilogram / u.metre**3\n",
    "# ml0.density      = 3300. * u.kilogram / u.metre**3\n",
    "# ma.density       = 3260. * u.kilogram / u.metre**3\n",
    "\n",
    "#Thermol\n",
    "Model.capacity = 750. * u.joule / (u.kelvin * u.kilogram)\n",
    "crust.capacity = 750. * u.joule / (u.kelvin * u.kilogram)\n",
    "ml.capacity    = 750. * u.joule / (u.kelvin * u.kilogram)\n",
    "ma.capacity    = 750. * u.joule / (u.kelvin * u.kilogram)\n",
    "weakseed.capacity    = 750. * u.joule / (u.kelvin * u.kilogram)\n",
    "\n",
    "Model.diffusivity = 1.0e-6 * u.metre**2 / u.second \n",
    "crust.diffusivity = 1.0e-6 * u.metre**2 / u.second \n",
    "ml.diffusivity = 1.0e-6 * u.metre**2 / u.second \n",
    "ma.diffusivity = 1.0e-6 * u.metre**2 / u.second \n",
    "weakseed.diffusivity = 1.0e-6 * u.metre**2 / u.second "
   ]
  },
  {
   "cell_type": "code",
   "execution_count": 9,
   "id": "7d76985a",
   "metadata": {},
   "outputs": [
    {
     "data": {
      "text/plain": [
       "<underworld.conditions._conditions.DirichletCondition at 0x7fa34c10b8b0>"
      ]
     },
     "execution_count": 9,
     "metadata": {},
     "output_type": "execute_result"
    }
   ],
   "source": [
    "Vx  = GEO.nd(velocity)\n",
    "Vxb = np.abs(-Vx *D_ml/2/(-D_Bottom-D_ml))\n",
    "\n",
    "conditions0 = [(Model.y >= D_ml, GEO.nd(0.0 * u.centimetre/u.year)),\n",
    "            (True, -Vxb)]\n",
    "function0 = fn.branching.conditional(conditions0)\n",
    "\n",
    "conditions1 = [(Model.y > D_ml, -Vx),\n",
    "               (Model.y == D_ml, GEO.nd(0.0 * u.centimetre/u.year)),\n",
    "              (True, Vxb)]\n",
    "function1 = fn.branching.conditional(conditions1)\n",
    "\n",
    "Model.set_velocityBCs(left=[function0, None],\n",
    "                      right=[function1, None],\n",
    "                      bottom=[None, 0.],\n",
    "                      top=[None,None],\n",
    "                      order_wall_conditions=[ \"left\", \"right\",\"top\", \"bottom\"])\n",
    "\n",
    "surface_nodes = GEO.shapes.Layer2D(top=0.+resolution0/4, bottom=0.-resolution0/4)\n",
    "\n",
    "Model.set_temperatureBCs(top=T0 ,\n",
    "                         bottom=Tz,nodeSets=[(surface_nodes,T0)])"
   ]
  },
  {
   "cell_type": "code",
   "execution_count": 10,
   "id": "4b4a5756",
   "metadata": {},
   "outputs": [],
   "source": [
    "T0 = 293.15 * u.degK\n",
    "T1 = 693.15 * u.degK\n",
    "T2 = 1623.15 * u.degK\n",
    "Tz = 1773.15 * u.degK \n",
    "\n",
    "crust_geotherm        = GEO.nd(T0) + GEO.nd(T1-T0)*(Model.y)/D_crust\n",
    "lithosphere_geotherm  = GEO.nd(T1) + GEO.nd(T2-T1)*(Model.y -D_crust)/(D_ml-D_crust)\n",
    "mantle_geotherm       = GEO.nd(T2) + GEO.nd(Tz-T2)*(Model.y - D_ml)/(D_Bottom-D_ml)\n",
    "\n",
    "geotherm_fn = fn.branching.conditional([(Model.y >= D_crust,crust_geotherm),\n",
    "                                        (Model.y >= D_ml,lithosphere_geotherm),\n",
    "                                        (True, mantle_geotherm)])\n",
    "\n",
    "Model.init_model(temperature=geotherm_fn)\n",
    "Model.init_model(pressure=\"lithostatic\",temperature=False)"
   ]
  },
  {
   "cell_type": "code",
   "execution_count": 11,
   "id": "77c7a637",
   "metadata": {},
   "outputs": [
    {
     "name": "stdout",
     "output_type": "stream",
     "text": [
      "Q82F5KCG__cm"
     ]
    },
    {
     "data": {
      "text/html": [
       "<img src='data:image/png;base64,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'>"
      ],
      "text/plain": [
       "<IPython.core.display.HTML object>"
      ]
     },
     "metadata": {},
     "output_type": "display_data"
    }
   ],
   "source": [
    "Fig = vis.Figure(resolution=(900,300),rulers=True,margin = 70,title=\"Initial Temperature Field (Kelvin)\")\n",
    "#Fig.Points(Model.swarm, Model.materialField,fn_size=2.0,discrete=True)\n",
    "# Fig.Points(surf_tracers, pointSize=4.0)\n",
    "# Fig.Points(moho_tracers, pointSize=4.0)\n",
    "Fig.Surface(Model.mesh, GEO.dimensionalise(Model.temperature, u.degK), colours=\"coolwarm\")\n",
    "Fig.Contours(Model.mesh, GEO.dimensionalise(Model.temperature, u.degK), interval= 150, limits=(293.15,1773.15),colours='Black', colourBar=False)\n",
    "Fig.show()"
   ]
  },
  {
   "cell_type": "code",
   "execution_count": 12,
   "id": "cde89db0",
   "metadata": {},
   "outputs": [
    {
     "data": {
      "text/html": [
       "<img src='data:image/png;base64,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'>"
      ],
      "text/plain": [
       "<IPython.core.display.HTML object>"
      ]
     },
     "metadata": {},
     "output_type": "display_data"
    }
   ],
   "source": [
    "Fig = vis.Figure(resolution=(900,300),rulers=True,margin = 70,title=\"Initial Temperature Field (Kelvin)\")\n",
    "Fig.Points(Model.swarm,Model.viscosityField,pointSize=4.0,colourBar = True)#colours=\"jet\" ,\n",
    "Fig.show()"
   ]
  },
  {
   "cell_type": "code",
   "execution_count": 13,
   "id": "18a5a973",
   "metadata": {},
   "outputs": [
    {
     "name": "stdout",
     "output_type": "stream",
     "text": [
      "\tGlobal element size: 200x50\n",
      "\tLocal offset of rank 0: 0x0\n",
      "\tLocal range of rank 0: 200x50\n"
     ]
    }
   ],
   "source": [
    "Model.freeSurface = True\n",
    "#Model.fssa_factor = 1.0"
   ]
  },
  {
   "cell_type": "code",
   "execution_count": null,
   "id": "b589a9a8",
   "metadata": {},
   "outputs": [],
   "source": [
    "Model.solver.set_inner_method(\"mumps\")\n",
    "#Model.solver.set_penalty(1e6)\n",
    "GEO.rcParams[\"initial.nonlinear.tolerance\"] = 5e-2\n",
    "\n",
    "outputss=['pressureField',\n",
    "         'strainRateField',\n",
    "         'velocityField',\n",
    "          'projTimeField',\n",
    "           'projMaterialField',\n",
    "         'projViscosityField',\n",
    "         'projStressField',\n",
    "         'projDensityField',\n",
    "         'projStressTensor',]\n",
    "GEO.rcParams['default.outputs']=outputss"
   ]
  },
  {
   "cell_type": "code",
   "execution_count": null,
   "id": "a97caa04",
   "metadata": {},
   "outputs": [],
   "source": [
    "# checkpoint_interval = 0.005*u.megayears\n",
    "\n",
    "# def plot_fig():\n",
    "#     global FigMat\n",
    "#     if GEO.nd(Model.time)%GEO.nd(checkpoint_interval)==0:\n",
    "#     #if GEO.nd(Model.step)%GEO.nd(checkpoint_interval)==0:\n",
    "        \n",
    "        \n",
    "# #         K_L = 192e3\n",
    "# #         x,y = surftracer.data[:,0]*K_L/1000,Model.surface_tracers.data[:,1]*K_L/1000\n",
    "# #         fig, ax1 = plt.subplots(nrows=1, figsize=(12,4))\n",
    "# #         ax1.set(xlabel='Distance [km]', ylabel='Topo [km]')\n",
    "# #         ax1.plot(x,y,'k')\n",
    "# #         ax1.set_ylim([-2,10])\n",
    "# #         ax1.set_xlim([0,192])\n",
    "# #         ax1.grid()\n",
    "# #         plt.savefig(Model.outputDir+\"/Topo-{0}.png\".format(Model.checkpointID))\n",
    "# #         plt.close()\n",
    "                         \n",
    "#         Fig = vis.Figure(resolution=(800,400),rulers=True)\n",
    "#         Fig.Points(Model.interface0_tracers, pointSize=4.0)\n",
    "#         Fig.Points(Model.interface1_tracers, pointSize=4.0)\n",
    "#         Fig.Points(Model.interface2_tracers, pointSize=4.0)\n",
    "#         Fig.Points(Model.swarm, Model.materialField,fn_size=4.0,discrete=True,colourBar=False)\n",
    "#         #Fig.show()\n",
    "#         Fig.save(Model.outputDir+\"/Material-{0}.png\".format(Model.checkpointID))\n",
    "# Model.post_solve_functions[\"plot_fig\"] = plot_fig"
   ]
  },
  {
   "cell_type": "code",
   "execution_count": null,
   "id": "73619e4a",
   "metadata": {},
   "outputs": [],
   "source": [
    "#Model.run_for(nstep=10, checkpoint_interval=1)#,dt=0.01*u.megayears)\n",
    "#Model.run_for(1.6 * u.megayears, checkpoint_interval=checkpoint_interval,dt=checkpoint_interval)"
   ]
  },
  {
   "cell_type": "code",
   "execution_count": null,
   "id": "63665e0f",
   "metadata": {},
   "outputs": [],
   "source": [
    "Model.run_for(1.6 * u.megayears, checkpoint_interval=0.1*u.megayears,dt=1000*u.year)\n",
    "#Model.run_for(6.4 * u.megayears, checkpoint_interval=0.1*u.megayears,dt=2500*u.year)\n",
    "#Model.run_for(5.5 * u.megayears, checkpoint_interval=100000*u.year,dt=5000*u.year)"
   ]
  },
  {
   "cell_type": "code",
   "execution_count": null,
   "id": "c8c90f19",
   "metadata": {},
   "outputs": [],
   "source": [
    "Fig = vis.Figure(resolution=(900,300),rulers=True,margin = 70,title=\"Initial Temperature Field (Kelvin)\")\n",
    "Fig.Points(Model.swarm,Model.viscosityField,pointSize=4.0,colourBar = True)#colours=\"jet\" ,\n",
    "Fig.show()"
   ]
  },
  {
   "cell_type": "code",
   "execution_count": null,
   "id": "11ad290a",
   "metadata": {},
   "outputs": [],
   "source": []
  },
  {
   "cell_type": "code",
   "execution_count": null,
   "id": "4649fe7e",
   "metadata": {},
   "outputs": [],
   "source": []
  },
  {
   "cell_type": "code",
   "execution_count": null,
   "id": "8f98349d",
   "metadata": {},
   "outputs": [],
   "source": []
  },
  {
   "cell_type": "code",
   "execution_count": null,
   "id": "0d235645",
   "metadata": {},
   "outputs": [],
   "source": []
  },
  {
   "cell_type": "code",
   "execution_count": null,
   "id": "eed3643b",
   "metadata": {},
   "outputs": [],
   "source": []
  },
  {
   "cell_type": "code",
   "execution_count": null,
   "id": "0c360fa6",
   "metadata": {},
   "outputs": [],
   "source": []
  },
  {
   "cell_type": "code",
   "execution_count": null,
   "id": "9f18619f",
   "metadata": {},
   "outputs": [],
   "source": []
  },
  {
   "cell_type": "code",
   "execution_count": null,
   "id": "5479a04f",
   "metadata": {},
   "outputs": [],
   "source": []
  },
  {
   "cell_type": "code",
   "execution_count": null,
   "id": "5860f229",
   "metadata": {},
   "outputs": [],
   "source": []
  },
  {
   "cell_type": "code",
   "execution_count": null,
   "id": "9e1b0c02",
   "metadata": {},
   "outputs": [],
   "source": []
  },
  {
   "cell_type": "code",
   "execution_count": null,
   "id": "8dd12b01",
   "metadata": {},
   "outputs": [],
   "source": []
  },
  {
   "cell_type": "code",
   "execution_count": null,
   "id": "51c8d1e1",
   "metadata": {},
   "outputs": [],
   "source": []
  },
  {
   "cell_type": "code",
   "execution_count": null,
   "id": "92323bce",
   "metadata": {},
   "outputs": [],
   "source": []
  },
  {
   "cell_type": "code",
   "execution_count": null,
   "id": "efdf257e",
   "metadata": {},
   "outputs": [],
   "source": []
  },
  {
   "cell_type": "code",
   "execution_count": null,
   "id": "83bc7e5b",
   "metadata": {},
   "outputs": [],
   "source": []
  },
  {
   "cell_type": "code",
   "execution_count": null,
   "id": "7a7c79a4",
   "metadata": {},
   "outputs": [],
   "source": []
  },
  {
   "cell_type": "code",
   "execution_count": null,
   "id": "41b450fa",
   "metadata": {},
   "outputs": [],
   "source": []
  }
 ],
 "metadata": {
  "kernelspec": {
   "display_name": "Python 3 (ipykernel)",
   "language": "python",
   "name": "python3"
  },
  "language_info": {
   "codemirror_mode": {
    "name": "ipython",
    "version": 3
   },
   "file_extension": ".py",
   "mimetype": "text/x-python",
   "name": "python",
   "nbconvert_exporter": "python",
   "pygments_lexer": "ipython3",
   "version": "3.9.7"
  }
 },
 "nbformat": 4,
 "nbformat_minor": 5
}
