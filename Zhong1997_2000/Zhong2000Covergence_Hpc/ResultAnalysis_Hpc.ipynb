{
 "cells": [
  {
   "cell_type": "code",
   "execution_count": 1,
   "id": "c814929f",
   "metadata": {},
   "outputs": [
    {
     "name": "stdout",
     "output_type": "stream",
     "text": [
      "loaded rc file /opt/venv/lib/python3.10/site-packages/underworld/UWGeodynamics/uwgeo-data/uwgeodynamicsrc\n"
     ]
    }
   ],
   "source": [
    "import underworld as uw\n",
    "import underworld.function as fn\n",
    "from underworld import UWGeodynamics as GEO\n",
    "import numpy as np\n",
    "import math\n",
    "\n",
    "import os\n",
    "import h5py   \n",
    "import matplotlib.pyplot as plt\n",
    "\n",
    "from underworld import visualisation as vis\n",
    "u = GEO.UnitRegistry\n"
   ]
  },
  {
   "cell_type": "code",
   "execution_count": 2,
   "id": "40ac0a77",
   "metadata": {},
   "outputs": [],
   "source": [
    "name_bcs = \"_FreeSlipBotm\"\n",
    "fdir_output = \"op2_Zhong2000NMCase1\"+name_bcs\n",
    "\n",
    "xmin_box,xmax_box = -2000,2000   # unit [km]\n",
    "ymin_box,ymax_box = -3000,0      # unit [km]\n",
    "\n",
    "\n",
    "x_box = xmax_box-xmin_box\n",
    "y_box = ymax_box-ymin_box\n",
    "\n",
    " \n",
    "x_res,y_res = 1600,1200\n",
    "npoints = 1600\n",
    "dx = x_box/x_res\n",
    "dy = y_box/y_res\n",
    "    \n",
    "conv_vel = 1.5 * u.centimeter / u.year  # 3.0  * u.centimeter / u.year /2\n",
    "\n",
    "# dt = 2.5 * u.kiloyear\n",
    "# Total_Convergence  = 500 *u.kilometer\n",
    "# Total_Time = (Total_Convergence / conv_vel).to(u.megayear)\n",
    "\n",
    "#scaling\n",
    "ref_velocity = 1.5 * u.centimeter / u.year\n",
    "ref_density = 3300. * u.kilogram / u.meter**3\n",
    "ref_length = 1000. * u.kilometer  \n",
    "ref_gravity =  10.0 * u.meter / u.second**2\n",
    "gravity = 10.0 * u.meter / u.second**2\n",
    "#ref_vicosity = 1e21 * u.pascal * u.second\n",
    "\n",
    "T0 = 273.15 * u.degK  # 0 * u.degC\n",
    "Tz = 1573.15 * u.degK # 1300 * u.degC at litho bottom\n",
    "# Tz = 1300 + 273.15 + (-ymin_box-ml_thickness)*120\n",
    "\n",
    "bodyforce = ref_density * ref_gravity\n",
    "KL = ref_length\n",
    "Kt = KL / ref_velocity\n",
    "KM = bodyforce * KL**2 * Kt**2\n",
    "KT = (Tz - T0)\n",
    "\n",
    "# ref_velocity = 1. * u.centimeter / u.year\n",
    "# ref_density = 3300. * u.kilogram / u.meter**3\n",
    "# ref_length = 1000. * u.kilometer  \n",
    "# ref_gravity =  10.0 * u.meter / u.second**2\n",
    "# gravity = 10. * u.meter / u.second**2\n",
    "# ref_vicosity = 1e21 * u.pascal * u.second\n",
    "\n",
    "# T0 = 273.15 * u.degK  # 0 * u.degC\n",
    "# Tz = 1573.15 * u.degK # 1300 * u.degC at litho bottom\n",
    "# # Tz = 1300 + 273.15 + (-ymin_box-ml_thickness)*120\n",
    "\n",
    "# bodyforce = ref_density * ref_gravity\n",
    "# KL = ref_length\n",
    "# KM = ref_density*KL**3\n",
    "# Kt = KM/(KL*ref_vicosity)\n",
    "# KT = (Tz - T0)\n",
    "\n",
    "GEO.scaling_coefficients[\"[length]\"] = KL\n",
    "GEO.scaling_coefficients[\"[time]\"] = Kt\n",
    "GEO.scaling_coefficients[\"[mass]\"]= KM\n",
    "GEO.scaling_coefficients[\"[temperature]\"] = KT\n",
    "    \n",
    "dx_nd = GEO.nd(dx*u.kilometer)\n",
    "dy_nd = GEO.nd(dy*u.kilometer)"
   ]
  },
  {
   "cell_type": "code",
   "execution_count": 3,
   "id": "9a65a920",
   "metadata": {},
   "outputs": [
    {
     "name": "stdout",
     "output_type": "stream",
     "text": [
      "\tGlobal element size: 1600x1200\n",
      "\tLocal offset of rank 0: 0x0\n",
      "\tLocal range of rank 0: 1600x1200\n"
     ]
    }
   ],
   "source": [
    "# Model = GEO.Model(elementRes=(x_res, y_res),\n",
    "#                   minCoord=(0. * u.kilometer, ymin_box*u.kilometer),\n",
    "#                   maxCoord=(xmax_box*u.kilometer, ymax_box*u.kilometer),\n",
    "#                   gravity=(0.0, -gravity))\n",
    "# Model.minStrainRate = 1e-18 / u.second\n",
    "\n",
    "minCoord = (GEO.nd(xmin_box*u.kilometer),GEO.nd(ymin_box*u.kilometer))\n",
    "maxCoord = (GEO.nd(xmax_box*u.kilometer),GEO.nd(ymax_box*u.kilometer))\n",
    "\n",
    "meshCopy = uw.mesh.FeMesh_Cartesian(elementType='Q1/dQ0',\n",
    "                                    elementRes=(x_res,y_res),\n",
    "                                    minCoord=minCoord,\n",
    "                                    maxCoord=maxCoord)"
   ]
  },
  {
   "cell_type": "code",
   "execution_count": 4,
   "id": "e72836a4",
   "metadata": {},
   "outputs": [],
   "source": [
    "def load_mesh(fdir,meshCopy,step,remesh=False):\n",
    "    if remesh:\n",
    "        meshfile = fdir+\"mesh-\"+ str(step)+\".h5\"\n",
    "        meshCopy.load(meshfile)\n",
    "    else:\n",
    "        meshfile = fdir+\"mesh\"+\".h5\"\n",
    "        meshCopy.load(meshfile)\n",
    "    return meshCopy\n",
    "    \n",
    "def load_mesh_variable(fdir,step,meshCopy,name,nodeDofCount):\n",
    "    variableCopy =meshCopy.add_variable(nodeDofCount) \n",
    "    variablefile = fdir+ name + str(step) +'.h5'\n",
    "    variableCopy.load(variablefile)\n",
    "    return variableCopy\n",
    "\n",
    "def load_swarm(fdir,meshCopy,step):\n",
    "    swarmCopy = uw.swarm.Swarm(mesh=meshCopy,particleEscape=True)\n",
    "    swarmfile = fdir+'swarm-' + str(step)  +'.h5'\n",
    "    swarmCopy.load(swarmfile)\n",
    "    return swarmCopy\n",
    "\n",
    "def load_swarm_variable(fdir,step,swarmCopy,name,dataType,count):\n",
    "    variableCopy = swarmCopy.add_variable(dataType, count)\n",
    "    variablefile = fdir+ name + str(step)+'.h5'\n",
    "    variableCopy.load(variablefile)\n",
    "    return variableCopy\n",
    "\n",
    "def load_tracer(fdir,step,name):\n",
    "    fname = fdir + name + str(step) + \".h5\"\n",
    "    fh5   = h5py.File(fname ,'r')  \n",
    "    fdata = fh5[\"data\"][()]\n",
    "    return fdata"
   ]
  },
  {
   "cell_type": "code",
   "execution_count": 5,
   "id": "47b66f3b",
   "metadata": {},
   "outputs": [],
   "source": [
    "def loadtopo_max(fdir,meshCopy,maxstep,dstep):\n",
    "    depth_max = []\n",
    "    for step in range(0,maxstep,dstep):\n",
    "        mesh = load_mesh(fdir,meshCopy,step,remesh=True)\n",
    "        top = mesh.specialSets[ 'Top_VertexSet'] \n",
    "        ycoord = mesh.data[top.data, 1]\n",
    "        depth_max.append(ycoord.max())  \n",
    "    return np.array(depth_max)\n",
    "\n",
    "def loadtopo_max_index(fdir,meshCopy,maxstep,dstep,index,KL):\n",
    "    depth_max = []\n",
    "    depth_index = []\n",
    "    for step in range(0,maxstep,dstep):\n",
    "        mesh = load_mesh(fdir,meshCopy,step,remesh=True)\n",
    "        top = mesh.specialSets[ 'Top_VertexSet'] \n",
    "        ycoord = mesh.data[top.data, 1] \n",
    "        depth_max.append(ycoord.max()) \n",
    "        depth_index.append(ycoord[index])\n",
    "    return np.array(depth_index)*KL,np.array(depth_max)*KL\n",
    "\n",
    "def loadtopo(fdir,meshCopy,step,KL):\n",
    "    mesh = load_mesh(fdir,meshCopy,step,remesh=True)\n",
    "    top = mesh.specialSets[ 'Top_VertexSet'] \n",
    "    coords = mesh.data[top.data, :]*KL  \n",
    "    return coords"
   ]
  },
  {
   "cell_type": "code",
   "execution_count": 6,
   "id": "b2e3f7ae",
   "metadata": {},
   "outputs": [],
   "source": [
    "def load_mesh_top(fdir,meshCopy,step):\n",
    "    mesh_tem = load_mesh(fdir,meshCopy,step,remesh=True)\n",
    "    top = mesh_tem.specialSets['Top_VertexSet']\n",
    "    return mesh_tem.data[top]"
   ]
  },
  {
   "cell_type": "code",
   "execution_count": 9,
   "id": "ec2af337",
   "metadata": {},
   "outputs": [],
   "source": [
    "fdir1 = \"op2_Zhong2000NMCase1_FreeSlipBotm_fixlr/\"\n",
    "case_name = \"Case1_FreeSlipBotm_\"\n",
    "\n",
    "steps = [0,1,2]\n",
    "#steps = [0,10,20]\n",
    "dt = 10\n",
    "\n",
    "#coords_topo1 = load_tracer(fdir1,step,\"Surf-\") \n",
    "#x_topo1,y_topo1 = coords_topo1[:,0],coords_topo1[:,1]"
   ]
  },
  {
   "cell_type": "code",
   "execution_count": 11,
   "id": "bf938910",
   "metadata": {},
   "outputs": [
    {
     "data": {
      "image/png": "[encoded data removed]",
      "text/plain": [
       "<Figure size 1200x400 with 1 Axes>"
      ]
     },
     "metadata": {},
     "output_type": "display_data"
    }
   ],
   "source": [
    "fname = \"Topography-\" #+str(step)\n",
    "fig, ax1 = plt.subplots(nrows=1, figsize=(12,4))\n",
    "ax1.set(xlabel='Distacne [Km]', ylabel='Topgraphy [km]') \n",
    "ax1.set_xlim([xmin_box,xmax_box])\n",
    "for i,step in enumerate(steps):\n",
    "    Time = step*dt\n",
    "    coords = load_mesh_top(fdir1,meshCopy,step)*ref_length.m\n",
    "    ax1.plot(coords[:,0],coords[:,1],\"r--\",label=\"NM_FreeSlipBotm\")\n",
    "    #coords = load_mesh_top(fdir1,meshCopy,step)*ref_length.m\n",
    "    #ax1.plot(coords[:,0]+600,coords[:,1],\"b--\",label=\"NM_LithoBotm\")\n",
    "    #coords = load_mesh_top(fdir1,meshCopy,step)*ref_length.m\n",
    "    #ax1.plot(coords[:,0],coords[:,1],\"b-\",label=\"Vel\")\n",
    "    #ax1.plot(data_x+600,data_surf[:,i+1],\"k-\",label=\"Analytic_FreeSurfBotm\")\n",
    "    #ax1.plot(data_x,data_surf[::-1,i+1],\"k-\")\n",
    "    #plt.text(0,coords[:,1].max() , str(Time)+\" ka\", ha='center',fontsize=10, color='k')\n",
    "#ax1.legend(loc='upper right')\n",
    "fig.savefig(case_name+\"topo\")   "
   ]
  },
  {
   "cell_type": "code",
   "execution_count": null,
   "id": "653f37c5",
   "metadata": {},
   "outputs": [],
   "source": [
    "case_name = \"testx_Case1ForVelBc_\"\n",
    "\n",
    "data_x = np.loadtxt(case_name+\"topo_x.txt\")\n",
    "data_moho = np.loadtxt(case_name+\"topo_m_time.txt\")\n",
    "data_surf = np.loadtxt(case_name+\"topo_s_time.txt\")\n",
    "data_botm = np.loadtxt(case_name+\"topo_b_time.txt\")"
   ]
  },
  {
   "cell_type": "code",
   "execution_count": null,
   "id": "84bb17f7",
   "metadata": {},
   "outputs": [],
   "source": [
    "fname = \"Topography-\" #+str(step)\n",
    "fig, ax1 = plt.subplots(nrows=1, figsize=(12,4))\n",
    "ax1.set(xlabel='Distacne [Km]', ylabel='Topgraphy [km]') \n",
    "ax1.set_xlim([xmin_box,xmax_box])\n",
    "for i,step in enumerate(steps):\n",
    "    Time = step*dt\n",
    "    #coords = load_mesh_top(fdir,meshCopy,step)*ref_length.m\n",
    "    #ax1.plot(coords[:,0],coords[:,1],\"r-\",label=\"Vel\")\n",
    "    #coords = load_mesh_top(fdir1,meshCopy,step)*ref_length.m\n",
    "    #ax1.plot(coords[:,0],coords[:,1],\"b-\",label=\"Vel\")\n",
    "    ax1.plot(data_x,data_surf[:,i],\"k-\",label=\"Vel\")\n",
    "    #ax1.plot(data_x-600,data_surf[::-1,i],\"k-\",label=\"Vel\")\n",
    "    plt.text(0.,data_surf[:,i].max(), str(Time)+\" ka\", ha='center',fontsize=10, color='k')\n",
    "fig.savefig(\"case_name+topo\")   "
   ]
  },
  {
   "cell_type": "code",
   "execution_count": null,
   "id": "937560c2",
   "metadata": {},
   "outputs": [],
   "source": [
    "fname = \"Moho-\" #+str(step)\n",
    "fig, ax1 = plt.subplots(nrows=1, figsize=(12,4))\n",
    "ax1.set(xlabel='Distacne [Km]', ylabel='Moho [km]') \n",
    "ax1.set_xlim([xmin_box,xmax_box])\n",
    "for i,step in enumerate(steps):\n",
    "    Time = step*dt\n",
    "    #coords = coords_topo2 = load_tracer(fdir,step,\"Moho-\") \n",
    "    #ax1.plot(coords[:,0],coords[:,1]+35,\"r-\",label=\"Vel\")\n",
    "    ax1.plot(data_x,data_moho[:,i],\"k-\",label=\"Vel\") \n",
    "    plt.text(0.,data_moho[:,i].min(), str(Time)+\" ka\", ha='center',fontsize=10, color='k')\n",
    "fig.savefig(\"case_name+moho\")   "
   ]
  },
  {
   "cell_type": "code",
   "execution_count": null,
   "id": "dc2488ba",
   "metadata": {},
   "outputs": [],
   "source": []
  },
  {
   "cell_type": "code",
   "execution_count": null,
   "id": "22d1aaa4",
   "metadata": {},
   "outputs": [],
   "source": []
  },
  {
   "cell_type": "code",
   "execution_count": null,
   "id": "9ee8591d",
   "metadata": {},
   "outputs": [],
   "source": [
    "# fdir = fdir1\n",
    "\n",
    "# meshCopy = load_mesh(fdir,meshCopy,step,remesh=False)\n",
    "# swarmCopy = load_swarm(fdir,meshCopy,step)\n",
    "# materialField = load_swarm_variable(fdir,step,swarmCopy,\"materialField-\",dataType=\"int\",count=1)\n",
    "# velocityField = load_mesh_variable(fdir,step,meshCopy,\"velocityField-\",nodeDofCount=2)\n"
   ]
  },
  {
   "cell_type": "code",
   "execution_count": null,
   "id": "6ebfef7c",
   "metadata": {},
   "outputs": [],
   "source": [
    "# fig_res = (1000,400)\n",
    "\n",
    "# Fig = vis.Figure(resolution=fig_res,rulers=True,margin = 80,rulerticks=7,quality=3,clipmap=False)\n",
    "# #Fig.Points(Model.Moho_tracers, pointSize=4.0)\n",
    "# #Fig.Points(Model.LAB_tracers, pointSize=4.0)\n",
    "# Fig.Points(swarmCopy, materialField,fn_size=4.0,discrete=True,colourBar=False)\n",
    "# Fig.VectorArrows(meshCopy, velocityField) \n",
    "# Fig.show()\n",
    "# #Fig.save(\"Model-Ref2Wedge_velbc_\"+str(step)+\".png\")"
   ]
  },
  {
   "cell_type": "code",
   "execution_count": null,
   "id": "d8ca49e9",
   "metadata": {},
   "outputs": [],
   "source": [
    "# air_idx = 1\n",
    "# volume = swarmCopy.particleCoordinates.data \n",
    "# coords = volume[np.where(materialField.data[:,0]==air_idx)]\n",
    "# x_nd,z_nd = coords[:,0],coords[:,1]\n",
    "# x,z = GEO.dimensionalise(coords[:,0],u.kilometer),GEO.dimensionalise(coords[:,1],u.kilometer)"
   ]
  },
  {
   "cell_type": "code",
   "execution_count": null,
   "id": "29273f70",
   "metadata": {},
   "outputs": [],
   "source": [
    "# fig, ax1 = plt.subplots(nrows=1, figsize=(20,4))\n",
    "# ax1.set(xlabel='Distacne [Km]', ylabel='Topgraphy [km]') \n",
    "# #ax1.plot(x_topo,y_topo,'k',label = \"topo\")\n",
    "# ax1.scatter(x,z,c=\"k\")\n",
    "# #ax1.scatter(x_topo,y_topo,c=\"r\")\n",
    "# ax1.scatter(x_topo1,y_topo1,c=\"y\")\n",
    "# #ax1.scatter(x_test,z_test,c=\"b\")\n",
    "# #ax1.scatter(x_test2,y_test2,c=\"g\")\n",
    "# #ax1.legend()"
   ]
  },
  {
   "cell_type": "code",
   "execution_count": null,
   "id": "3c174634",
   "metadata": {},
   "outputs": [],
   "source": []
  },
  {
   "cell_type": "code",
   "execution_count": null,
   "id": "7ebc7824",
   "metadata": {},
   "outputs": [],
   "source": []
  }
 ],
 "metadata": {
  "kernelspec": {
   "display_name": "Python 3 (ipykernel)",
   "language": "python",
   "name": "python3"
  },
  "language_info": {
   "codemirror_mode": {
    "name": "ipython",
    "version": 3
   },
   "file_extension": ".py",
   "mimetype": "text/x-python",
   "name": "python",
   "nbconvert_exporter": "python",
   "pygments_lexer": "ipython3",
   "version": "3.10.12"
  }
 },
 "nbformat": 4,
 "nbformat_minor": 5
}
