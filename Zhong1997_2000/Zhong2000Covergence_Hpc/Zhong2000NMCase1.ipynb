{
 "cells": [
  {
   "cell_type": "markdown",
   "id": "571f442c",
   "metadata": {},
   "source": [
    "###\n",
    "\n",
    "Reasons for the deviations from local isostasy (Zhong, 2000):\n",
    "- dynamics compnesation processes immediatedly following orogeny that lead to non-isostaic staes (Zhong, 1997)\n",
    "- subsequently icreased lithoshperic strength which is capable of suporrting deviatoric stresses indefinitely on a regional scale (Daly, 1940)\n",
    "\n",
    "Cases from Zhong (2000):\n",
    "- Case 1: ml.viscosity = 1e22 * u.pascal * u.second, ma.viscosity = 1e21 * u.pascal * u.second\n",
    "- Case 2: ml.viscosity = 1e23 * u.pascal * u.second, ma.viscosity = 1e21 * u.pascal * u.second \n",
    "- Case 3: ml.viscosity = 1e24 * u.pascal * u.second, ma.viscosity = 1e21 * u.pascal * u.second \n",
    "- Case 4: include a weak lower crust\n",
    "\n",
    "degree of \n",
    "\n",
    "\n",
    "\n",
    "### Reference\n",
    "- Zhong, S. (1997). Dynamics of crustal compensation and its influences on crustal isostasy. Journal of Geophysical Research: Solid Earth, 102(B7), 15287-15299.\n",
    "- Zhong, S., & Zuber, M. T. (2000). Crustal compensation during mountain‐building. Geophysical research letters, 27(18), 3009-3012.\n",
    "\n",
    "- Characterization of Viscous Dissipative Heating in the Earth's Mantle Caused by Surface Forces"
   ]
  },
  {
   "cell_type": "code",
   "execution_count": 1,
   "id": "0f642982",
   "metadata": {},
   "outputs": [
    {
     "name": "stdout",
     "output_type": "stream",
     "text": [
      "loaded rc file /opt/venv/lib/python3.10/site-packages/underworld/UWGeodynamics/uwgeo-data/uwgeodynamicsrc\n"
     ]
    }
   ],
   "source": [
    "import underworld as uw\n",
    "import underworld.function as fn\n",
    "from underworld import UWGeodynamics as GEO\n",
    "import numpy as np\n",
    "import math"
   ]
  },
  {
   "cell_type": "code",
   "execution_count": 2,
   "id": "5927accb",
   "metadata": {},
   "outputs": [],
   "source": [
    "u = GEO.UnitRegistry\n",
    "\n",
    "# solver parameters\n",
    "GEO.rcParams[\"initial.nonlinear.tolerance\"] = 1e-3\n",
    "GEO.rcParams['initial.nonlinear.max.iterations'] = 200\n",
    "GEO.rcParams[\"nonlinear.tolerance\"] = 1e-2\n",
    "GEO.rcParams['nonlinear.max.iterations'] = 50\n",
    "GEO.rcParams[\"popcontrol.particles.per.cell.2D\"] = 30\n",
    "GEO.rcParams[\"swarm.particles.per.cell.2D\"] = 30\n",
    "\n",
    "GEO.rcParams[\"surface.pressure.normalization\"] = True\n",
    "GEO.rcParams[\"pressure.smoothing\"] = True"
   ]
  },
  {
   "cell_type": "code",
   "execution_count": 3,
   "id": "54d89130",
   "metadata": {},
   "outputs": [
    {
     "name": "stdout",
     "output_type": "stream",
     "text": [
      "Length, km =  1000.0 kilometer\n",
      "Time, Myr =  66.66666666666667 megayear\n",
      "Pressure, MPa =  32999.999999999985 megapascal\n",
      "Temperature, K =  1300.0 kelvin\n",
      "Velocity, cm/yr =  1.5 centimeter / year\n",
      "Viscosity, Pa S =  6.9426719999999984e+25 pascal * second\n"
     ]
    }
   ],
   "source": [
    "# input parameters\n",
    "name_bcs = \"_FreeSlipBotm\"\n",
    "fdir_output = \"op_Zhong2000NMCase1\"+name_bcs\n",
    "\n",
    "xmin_box,xmax_box = -2000,2000   # unit [km]\n",
    "ymin_box,ymax_box = -3000,0      # unit [km]\n",
    "\n",
    "\n",
    "x_box = xmax_box-xmin_box\n",
    "y_box = ymax_box-ymin_box\n",
    "\n",
    "if uw.mpi.rank == 0:\n",
    "    x_res,y_res = 400,300   \n",
    "    npoints = 1000  \n",
    "    dx = x_box/x_res\n",
    "    dy = y_box/y_res\n",
    "\n",
    "else:    \n",
    "    x_res,y_res = 2400,1200\n",
    "    npoints = 1200\n",
    "    dx = x_box/x_res\n",
    "    dy = y_box/y_res\n",
    "    \n",
    "conv_vel = 1.5 * u.centimeter / u.year  # 3.0  * u.centimeter / u.year /2\n",
    "\n",
    "# dt = 2.5 * u.kiloyear\n",
    "# Total_Convergence  = 500 *u.kilometer\n",
    "# Total_Time = (Total_Convergence / conv_vel).to(u.megayear)\n",
    "\n",
    "#scaling\n",
    "ref_velocity = 1.5 * u.centimeter / u.year\n",
    "ref_density = 3300. * u.kilogram / u.meter**3\n",
    "ref_length = 1000. * u.kilometer  \n",
    "ref_gravity =  10.0 * u.meter / u.second**2\n",
    "gravity = 10.0 * u.meter / u.second**2\n",
    "#ref_vicosity = 1e21 * u.pascal * u.second\n",
    "\n",
    "T0 = 273.15 * u.degK  # 0 * u.degC\n",
    "Tz = 1573.15 * u.degK # 1300 * u.degC at litho bottom\n",
    "# Tz = 1300 + 273.15 + (-ymin_box-ml_thickness)*120\n",
    "\n",
    "bodyforce = ref_density * ref_gravity\n",
    "KL = ref_length\n",
    "Kt = KL / ref_velocity\n",
    "KM = bodyforce * KL**2 * Kt**2\n",
    "KT = (Tz - T0)\n",
    "\n",
    "# ref_velocity = 1. * u.centimeter / u.year\n",
    "# ref_density = 3300. * u.kilogram / u.meter**3\n",
    "# ref_length = 1000. * u.kilometer  \n",
    "# ref_gravity =  10.0 * u.meter / u.second**2\n",
    "# gravity = 10. * u.meter / u.second**2\n",
    "# ref_vicosity = 1e21 * u.pascal * u.second\n",
    "\n",
    "# T0 = 273.15 * u.degK  # 0 * u.degC\n",
    "# Tz = 1573.15 * u.degK # 1300 * u.degC at litho bottom\n",
    "# # Tz = 1300 + 273.15 + (-ymin_box-ml_thickness)*120\n",
    "\n",
    "# bodyforce = ref_density * ref_gravity\n",
    "# KL = ref_length\n",
    "# KM = ref_density*KL**3\n",
    "# Kt = KM/(KL*ref_vicosity)\n",
    "# KT = (Tz - T0)\n",
    "\n",
    "GEO.scaling_coefficients[\"[length]\"] = KL\n",
    "GEO.scaling_coefficients[\"[time]\"] = Kt\n",
    "GEO.scaling_coefficients[\"[mass]\"]= KM\n",
    "GEO.scaling_coefficients[\"[temperature]\"] = KT\n",
    "\n",
    "if uw.mpi.rank == 0:\n",
    "    print('Length, km = ', GEO.dimensionalise(1., u.kilometer))\n",
    "    print('Time, Myr = ',GEO.dimensionalise(1., u.megayear))\n",
    "    print('Pressure, MPa = ',GEO.dimensionalise(1., u.megapascal))\n",
    "    print('Temperature, K = ',GEO.dimensionalise(1., u.degK))\n",
    "    print('Velocity, cm/yr = ',GEO.dimensionalise(1., u.centimeter / u.year))\n",
    "    print('Viscosity, Pa S = ',GEO.dimensionalise(1.,u.pascal * u.second))\n",
    "    \n",
    "dx_nd = GEO.nd(dx*u.kilometer)\n",
    "dy_nd = GEO.nd(dy*u.kilometer)"
   ]
  },
  {
   "cell_type": "code",
   "execution_count": 4,
   "id": "0616ec19",
   "metadata": {},
   "outputs": [
    {
     "name": "stdout",
     "output_type": "stream",
     "text": [
      "\tGlobal element size: 400x300\n",
      "\tLocal offset of rank 0: 0x0\n",
      "\tLocal range of rank 0: 400x300\n",
      "In func WeightsCalculator_CalculateAll(): for swarm \"O0H6SQ7L__swarm\"\n",
      "\tdone 33% (40000 cells)...\n",
      "\tdone 67% (80000 cells)...\n",
      "\tdone 100% (120000 cells)...\n",
      "WeightsCalculator_CalculateAll(): finished update of weights for swarm \"O0H6SQ7L__swarm\"\n"
     ]
    }
   ],
   "source": [
    "Model = GEO.Model(elementRes=(x_res, y_res),\n",
    "                  minCoord=(xmin_box*u.kilometer, ymin_box*u.kilometer),\n",
    "                  maxCoord=(xmax_box*u.kilometer, ymax_box*u.kilometer),\n",
    "                  gravity=(0.0, -gravity))\n",
    "Model.outputDir=fdir_output\n",
    "#Model.minStrainRate = 1e-18 / u.second"
   ]
  },
  {
   "cell_type": "code",
   "execution_count": 5,
   "id": "eadeb780",
   "metadata": {},
   "outputs": [],
   "source": [
    "h0   = 0.* u.kilometer\n",
    "Z_lc = -35. * u.kilometer\n",
    "Z_ml = -100. * u.kilometer\n",
    "\n",
    "#air_Shape = GEO.shapes.Layer(top=Model.top, bottom=h0)\n",
    "lc_Shape = GEO.shapes.Layer2D(top=h0, bottom=Z_lc)\n",
    "ml_Shape = GEO.shapes.Layer2D(top=Z_lc, bottom=Z_ml )\n",
    "ma_Shape = GEO.shapes.Layer2D(top=Z_ml, bottom=Model.bottom)\n",
    "\n",
    "#air = Model.add_material(name=\"Air\", shape=air_Shape)\n",
    "\n",
    "lc = Model.add_material(name=\"Crust\", shape=lc_Shape)\n",
    "ml = Model.add_material(name=\"Mantle Lithosphere\", shape=ml_Shape)\n",
    "ma = Model.add_material(name=\"Mantle Asthenosphere\", shape=ma_Shape)"
   ]
  },
  {
   "cell_type": "code",
   "execution_count": 6,
   "id": "1ee736d2",
   "metadata": {},
   "outputs": [],
   "source": [
    "# coords = np.ndarray((npoints, 2))\n",
    "# x = np.linspace(GEO.nd(Model.minCoord[0]), GEO.nd(Model.maxCoord[0]), npoints)\n",
    "# y = np.ones_like(x)*GEO.nd(Z_lc)\n",
    "# coords[:, 0] = x\n",
    "# coords[:, 1] = y\n",
    "# Model.add_passive_tracers(name=\"Moho\", vertices=coords)\n",
    "\n",
    "coords = np.ndarray((npoints, 2))\n",
    "x = np.linspace(GEO.nd(Model.minCoord[0]), GEO.nd(Model.maxCoord[0]), npoints)\n",
    "y = np.ones_like(x)*GEO.nd(Z_lc)\n",
    "coords[:, 0] = x\n",
    "coords[:, 1] = y\n",
    "Model.add_passive_tracers(name=\"Moho\", vertices=coords)\n",
    "\n",
    "coords = np.ndarray((npoints, 2))\n",
    "x = np.linspace(GEO.nd(Model.minCoord[0]), GEO.nd(Model.maxCoord[0]), npoints)\n",
    "y = np.ones_like(x)*GEO.nd(Z_ml)\n",
    "coords[:, 0] = x\n",
    "coords[:, 1] = y\n",
    "Model.add_passive_tracers(name=\"LAB\", vertices=coords)"
   ]
  },
  {
   "cell_type": "code",
   "execution_count": 7,
   "id": "cedff803",
   "metadata": {},
   "outputs": [],
   "source": [
    "# if uw.mpi.rank == 0:\n",
    "#     from underworld import visualisation as vis\n",
    "#     fig_res = (1000,400)\n",
    "\n",
    "#     Fig = vis.Figure(resolution=fig_res,rulers=True,margin = 80,rulerticks=7,quality=3,clipmap=False)\n",
    "# #     Fig.Points(Model.Surface_tracers, pointSize=4.0)\n",
    "# #     Fig.Points(Model.Moho_tracers, pointSize=4.0)\n",
    "# #     Fig.Points(Model.LAB_tracers, pointSize=4.0)\n",
    "#     Fig.Points(Model.swarm, Model.materialField,fn_size=2.0,discrete=True,colourBar=False)\n",
    "#     Fig.show()\n",
    "#     Fig.save(\"Modelsetup.png\")"
   ]
  },
  {
   "cell_type": "code",
   "execution_count": 8,
   "id": "67a0fa74",
   "metadata": {},
   "outputs": [],
   "source": [
    "lc.density = 2800. * u.kilogram / u.metre**3 \n",
    "ml.density = 3300. * u.kilogram / u.metre**3 \n",
    "ma.density = 3300. * u.kilogram / u.metre**3 \n",
    "\n",
    "Model.minViscosity = 1e17 * u.pascal * u.second\n",
    "Model.maxViscosity = 1e28 * u.pascal * u.second\n",
    "\n",
    "lc.viscosity = 1e22 * u.pascal * u.second\n",
    "ml.viscosity = 1e22 * u.pascal * u.second\n",
    "ma.viscosity = 1e21 * u.pascal * u.second"
   ]
  },
  {
   "cell_type": "code",
   "execution_count": 9,
   "id": "261bb064",
   "metadata": {},
   "outputs": [
    {
     "name": "stdout",
     "output_type": "stream",
     "text": [
      "Relaxation time =  2112.53918760193 year\n"
     ]
    }
   ],
   "source": [
    "dt_e = 3000 * u.year   # observation time\n",
    "\n",
    "mu      = 1.5e11 * u.pascal # Shear Modulus\n",
    "eta     = 1e22 * u.pascal * u.second \n",
    "alpha   = eta / mu       # Relaxation time\n",
    "mu_eff = eta*GEO.nd(dt_e)/(GEO.nd(alpha)+GEO.nd(dt_e))\n",
    "\n",
    "lc.elasticity = GEO.Elasticity(shear_modulus= mu,observation_time= dt_e)    \n",
    "ml.elasticity = GEO.Elasticity(shear_modulus= mu,observation_time= dt_e)\n",
    "ma.elasticity = GEO.Elasticity(shear_modulus= mu,observation_time= dt_e)         \n",
    "print('Relaxation time = ', alpha.to(u.years))\n",
    "# print('Effective viscoisty = ', mu_eff.to(u.pascal * u.second ))"
   ]
  },
  {
   "cell_type": "code",
   "execution_count": 10,
   "id": "d3a3a3a8",
   "metadata": {},
   "outputs": [],
   "source": [
    "iv_or_t,v_or_t,boxl,all1,ramp1,all0,ramp0 =1,-1.5,4000.0,0.0,500.0,3500.0,500.0\n",
    "iso,kkt,nox = 0,200,x_res+1\n",
    "\n",
    "pi = np.pi\n",
    "d=3.0e6\n",
    "year = 365.0*24*3600.0\n",
    "visc0 = 1e21\n",
    "amu = 1.5e11\n",
    "tscaling = visc0/amu\n",
    "vscaling = d/tscaling*100*year\n",
    "\n",
    "if iv_or_t==1:\n",
    "    v_or_t = v_or_t/vscaling\n",
    "\n",
    "ff = np.zeros(kkt)\n",
    "for k in range(1, kkt+1):\n",
    "    if  ramp1 != 0.0:\n",
    "        ff[k-1] = v_or_t/(pi*k)* (np.cos(pi*k*(ramp1+all1)/boxl)-\\\n",
    "                                   boxl/(ramp0*pi*k)* \\\n",
    "                               (np.sin(pi*k*(ramp0+all0)/boxl)-np.sin(pi*k*all0/boxl)) \\\n",
    "                               -np.cos(pi*k*ramp1/boxl)+\\\n",
    "                                   boxl/(ramp1*pi*k)*np.sin(pi*k*ramp1/boxl))\n",
    "    else:\n",
    "        ff[k-1] = v_or_t/(pi*k)* \\\n",
    "              (mp.cos(pi*k*(ramp1+all1)/boxl)-boxl/(ramp0*pi*k)* \\\n",
    "            (mp.sin(pi*k*(ramp0+all0)/boxl)-mp.sin(pi*k*all0/boxl)) )\n",
    "\n",
    "topo_v0max = 0.\n",
    "for k in range(1, kkt+1):\n",
    "    wavelength1 = 2 * boxl * 1000 / k\n",
    "    aki = np.float128(2 * pi / wavelength1)\n",
    "    topo_v0max+= ff[k-1] * vscaling\n",
    "topo_v0max = np.abs(topo_v0max)"
   ]
  },
  {
   "cell_type": "code",
   "execution_count": 11,
   "id": "c5543780",
   "metadata": {},
   "outputs": [],
   "source": [
    "# xcoordi = np.linspace(-boxl*1000/2,boxl*1000/2,nox) \n",
    "# topo_v0_new = np.zeros(nox)\n",
    "# for k in range(1, kkt+1):\n",
    "#     wavelength1 = 2 * boxl * 1000 / k\n",
    "#     aki = np.float128(2 * pi / wavelength1)\n",
    "#     for ij in range(nox):\n",
    "#         topo_v0_new[ij] += ff[k-1] * np.cos(xcoordi[ij] * aki)* vscaling\n",
    "\n",
    "# import matplotlib.pyplot as plt\n",
    "# %matplotlib inline\n",
    "\n",
    "# fig, ax1 = plt.subplots(nrows=1, figsize=(10,4))\n",
    "# ax1.set(xlabel='k', ylabel='frequency',title=\"Surface velocity in Fourier expansion\") \n",
    "# ax1.plot(ff,\"r--\",label=\"Vel\")\n",
    "\n",
    "\n",
    "# fig, ax1 = plt.subplots(nrows=1, figsize=(10,4))\n",
    "# ax1.set(xlabel='Distacne [km]', ylabel='velocity [cm/yr]',title='Surface velocity') \n",
    "# ax1.set_xlim([-boxl/2,boxl/2])\n",
    "# ax1.set_ylim([-1.6,0])\n",
    "# #ax1.plot(xcoordi/1000,topo_v0[:]*100,c=\"k\",label=\"Vel_origin\")\n",
    "# ax1.plot(xcoordi/1000,topo_v0_new[:],\"r--\",label=\"Vel_fromff\")\n",
    "# ax1.legend(loc='lower right')\n",
    "# fig.savefig(\"vel_inx\")"
   ]
  },
  {
   "cell_type": "code",
   "execution_count": 12,
   "id": "f9d109e5",
   "metadata": {},
   "outputs": [
    {
     "name": "stderr",
     "output_type": "stream",
     "text": [
      "/opt/venv/lib/python3.10/site-packages/underworld/UWGeodynamics/_model.py:1595: UserWarning: Skipping the steady state calculation: No diffusivity variable defined on Model\n",
      "  warnings.warn(\"Skipping the steady state calculation: No diffusivity variable defined on Model\")\n"
     ]
    },
    {
     "name": "stdout",
     "output_type": "stream",
     "text": [
      "\tGlobal element size: 400x300\n",
      "\tLocal offset of rank 0: 0x0\n",
      "\tLocal range of rank 0: 400x300\n"
     ]
    }
   ],
   "source": [
    "vel = conv_vel   \n",
    "depth = GEO.nd(Model.minCoord[1])\n",
    "depth_trans0 = GEO.nd(-1000*u.kilometer)\n",
    "depth_trans1 = GEO.nd(-2000*u.kilometer)\n",
    "wavel_trans = depth_trans0-depth_trans1\n",
    "topo_v0max_nd = topo_v0max/ref_velocity.m\n",
    "\n",
    "def fn1():\n",
    "    topo_v0 = 0.\n",
    "    for k in range(1, kkt+1):\n",
    "        wavelength1 = 2. * boxl * 1000 / k\n",
    "        aki = 2. * pi / wavelength1 \n",
    "        topo_v0 += ff[k-1] * fn.math.cos(Model.x*ref_length.m*1000.*aki)* vscaling\n",
    "    return (topo_v0+topo_v0max)/ref_velocity.m\n",
    "\n",
    "conditions = [(Model.x <=0., fn1()),\n",
    "              (True,-fn1())]    \n",
    "Vx = fn.branching.conditional(conditions)   \n",
    "\n",
    "conditions_l = [(Model.y >= depth_trans0, topo_v0max_nd),\n",
    "               (Model.y >= depth_trans1, topo_v0max_nd*fn.math.cos((Model.y-depth_trans0)/wavel_trans*pi)), \n",
    "              (True,-topo_v0max_nd)]\n",
    "Vx_l = fn.branching.conditional(conditions_l)\n",
    "conditions_r = [(Model.y >= depth_trans0, -topo_v0max_nd),\n",
    "               (Model.y >= depth_trans1, -topo_v0max_nd*fn.math.cos((Model.y-depth_trans0)/wavel_trans*pi)), \n",
    "              (True,topo_v0max_nd)]\n",
    "Vx_r = fn.branching.conditional(conditions_r)\n",
    "\n",
    "Model.set_velocityBCs(left = [Vx_l,None],right=[Vx_r, None],bottom=[None, 0.0], top= [Vx, None],order_wall_conditions= [\"left\", \"right\", \"top\", \"bottom\"])\n",
    "\n",
    "#Model.set_velocityBCs(left = [Vx_l,None],right=[Vx_r, None],bottom=[None, 0.0],nodeSets=[(Model.top_wall, [Vx, None])],order_wall_conditions= [\"left\", \"right\", \"top\", \"bottom\"])\n",
    "Model.init_model(pressure=\"lithostatic\")\n",
    "Model.freeSurface = True"
   ]
  },
  {
   "cell_type": "code",
   "execution_count": 13,
   "id": "2a9b818d",
   "metadata": {},
   "outputs": [],
   "source": [
    "# fig, ax1 = plt.subplots(nrows=1, figsize=(10,4))\n",
    "# ax1.set(xlabel='Distacne [km]', ylabel='velocity [cm/yr]',title='Surface velocity') \n",
    "# ax1.set_xlim([-boxl/2,boxl/2])\n",
    "# #ax1.set_ylim([-1.6,0])\n",
    "# #ax1.plot(xcoordi/1000,topo_v0[:]*100,c=\"k\",label=\"Vel_origin\")\n",
    "# ax1.plot(xcoordi[:int(x_res/2)]/1000,(topo_v0_new[:int(x_res/2)]+topo_v0max)/ref_velocity.m,\"r--\",label=\"Vel_fromff\")\n",
    "# ax1.plot(xcoordi[int(x_res/2):]/1000,(-topo_v0_new[int(x_res/2):]-topo_v0max)/ref_velocity.m,\"r--\",label=\"Vel_fromff\")\n",
    "# ax1.legend(loc='lower right')\n",
    "# #fig.savefig(\"vel_inx\")"
   ]
  },
  {
   "cell_type": "code",
   "execution_count": 14,
   "id": "3a52a82a",
   "metadata": {},
   "outputs": [],
   "source": [
    "# import matplotlib.pyplot as plt\n",
    "\n",
    "# # left = Model.mesh.specialSets[ 'Left_VertexSet'] \n",
    "# # right = Model.mesh.specialSets[ 'Right_VertexSet'] \n",
    "# vtop = Model.velocityField.data[Model.top_wall]\n",
    "# fig, ax = plt.subplots(1, 1, figsize=(10,6))\n",
    "# ax.plot(vtop[:,0],'k')"
   ]
  },
  {
   "cell_type": "code",
   "execution_count": 15,
   "id": "4dcf46a6",
   "metadata": {},
   "outputs": [],
   "source": [
    "# ycoordi = np.linspace(-1,0,y_res+1) \n",
    "        \n",
    "# vel = conv_vel   \n",
    "# depth = GEO.nd(Model.minCoord[1])\n",
    "# depth_trans0 = GEO.nd(-1000*u.kilometer)\n",
    "# depth_trans1 = GEO.nd(-2000*u.kilometer)\n",
    "# wavel_trans = depth_trans0-depth_trans1\n",
    "\n",
    "# vyleft_test = np.zeros_like(ycoordi)\n",
    "# for i,item in enumerate(ycoordi):\n",
    "#     if item >= depth_trans0:\n",
    "#         vyleft_test[i] = -topo_v0_/ref_velocity.m\n",
    "#     elif item>=depth_trans1:\n",
    "#         vyleft_test[i] = -topo_v0_/ref_velocity.m*np.cos((item-depth_trans0)/wavel_trans*pi)\n",
    "#     else:\n",
    "#         vyleft_test[i] = topo_v0_/ref_velocity.m"
   ]
  },
  {
   "cell_type": "code",
   "execution_count": 16,
   "id": "005be6a1",
   "metadata": {},
   "outputs": [],
   "source": [
    "# fig, ax = plt.subplots(1, 1, figsize=(10,6))\n",
    "# ax.plot(ycoordi,vyleft_test,'k')"
   ]
  },
  {
   "cell_type": "code",
   "execution_count": 17,
   "id": "7ca4a089",
   "metadata": {},
   "outputs": [],
   "source": [
    "# import matplotlib.pyplot as plt\n",
    "\n",
    "# left = Model.mesh.specialSets[ 'Left_VertexSet'] \n",
    "# right = Model.mesh.specialSets[ 'Right_VertexSet'] \n",
    "# vleft = Model.velocityField.data[left.data, :]\n",
    "# vright = Model.velocityField.data[right.data, :]\n",
    "# fig, ax = plt.subplots(1, 1, figsize=(10,6))\n",
    "# ax.plot(vleft[:,0],'k')\n",
    "# ax.plot(vright[:,0],'r')"
   ]
  },
  {
   "cell_type": "code",
   "execution_count": 18,
   "id": "e6ab4efb",
   "metadata": {},
   "outputs": [
    {
     "data": {
      "image/png": "[encoded data removed]",
      "text/plain": [
       "<Figure size 1200x400 with 1 Axes>"
      ]
     },
     "metadata": {},
     "output_type": "display_data"
    }
   ],
   "source": [
    "import matplotlib.pyplot as plt\n",
    "\n",
    "# left = Model.mesh.specialSets[ 'Left_VertexSet'] \n",
    "# right = Model.mesh.specialSets[ 'Right_VertexSet'] \n",
    "vtop = Model.velocityField.data[Model.top_wall]\n",
    "fig, ax1 = plt.subplots(nrows=1, figsize=(12,4))\n",
    "ax1.set(xlabel='Distacne [Km]', ylabel='Velocity [cm/year]') \n",
    "ax1.plot(Model.mesh.data[Model.top_wall][:,0]*ref_length.m,vtop[:,0],'k')\n",
    "fig.savefig(\"NM_vel_input\") "
   ]
  },
  {
   "cell_type": "code",
   "execution_count": 19,
   "id": "66301416",
   "metadata": {},
   "outputs": [],
   "source": [
    "#def find_IndexSet(axis):\n",
    "#     Sets = Model.mesh.specialSets[\"Empty\"]\n",
    "#     for index in axis:\n",
    "#         Sets.add(index)\n",
    "#     return Sets\n",
    "\n",
    "# IndexSet_test = find_IndexSet(condition)\n",
    "\n",
    "# IndexSet_test,IndexSet_test[:].shape\n",
    "# IndexSet,IndexSet[:].shape"
   ]
  },
  {
   "cell_type": "code",
   "execution_count": 21,
   "id": "c119c4d1",
   "metadata": {},
   "outputs": [
    {
     "data": {
      "text/html": [
       "<img src='data:image/png;base64,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'>"
      ],
      "text/plain": [
       "<IPython.core.display.HTML object>"
      ]
     },
     "metadata": {},
     "output_type": "display_data"
    }
   ],
   "source": [
    "from underworld import visualisation as vis\n",
    "\n",
    "Fig = vis.Figure(resolution=(1200,600),rulers=True,margin = 100,rulerticks=7,quality=3,clipmap=False)\n",
    "#Fig.Points(Model.Moho_tracers, pointSize=4.0)\n",
    "#Fig.Points(Model.LAB_tracers, pointSize=4.0)\n",
    "Fig.Points(Model.swarm, Model.materialField,fn_size=4.0,discrete=True,colourBar=False)\n",
    "#Fig.Points(Model.swarm, Model.materialField,fn_size=4.0,discrete=True,colourBar=False,colours = [\"yellow\",\"orange\",\"red\"])\n",
    "Fig.VectorArrows(Model.mesh, Model.velocityField)\n",
    "Fig.show()"
   ]
  },
  {
   "cell_type": "code",
   "execution_count": null,
   "id": "069ee5fc",
   "metadata": {},
   "outputs": [],
   "source": [
    "#Data to Save\n",
    "outputss=['pressureField',\n",
    "         'strainRateField',\n",
    "         'velocityField',\n",
    "          'projStressField',\n",
    "           'projMaterialField',\n",
    "         'projViscosityField',\n",
    "         'projStressField',\n",
    "         'projDensityField',\n",
    "         'projStressTensor',]\n",
    "GEO.rcParams['default.outputs']=outputss\n",
    "\n",
    "Model.solver.set_inner_method(\"mumps\")\n",
    "# Model.solver.set_penalty(1e-3)\n",
    "Model.temperatureDot = Model._temperatureDot\n",
    "\n",
    "Total_Time = 3.1*u.megayear\n",
    "checkpoint_interval = 0.1*u.megayear\n",
    "dt = 1.*u.kiloyear\n",
    "Model.run_for(Total_Time, checkpoint_interval=checkpoint_interval,dt=dt)"
   ]
  },
  {
   "cell_type": "code",
   "execution_count": null,
   "id": "194022ee",
   "metadata": {},
   "outputs": [],
   "source": [
    "#Model.run_for(nstep=2,checkpoint_interval=1,dt=500*u.year)"
   ]
  }
 ],
 "metadata": {
  "kernelspec": {
   "display_name": "Python 3 (ipykernel)",
   "language": "python",
   "name": "python3"
  },
  "language_info": {
   "codemirror_mode": {
    "name": "ipython",
    "version": 3
   },
   "file_extension": ".py",
   "mimetype": "text/x-python",
   "name": "python",
   "nbconvert_exporter": "python",
   "pygments_lexer": "ipython3",
   "version": "3.10.12"
  }
 },
 "nbformat": 4,
 "nbformat_minor": 5
}
